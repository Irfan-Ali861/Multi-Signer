{
 "cells": [
  {
   "cell_type": "code",
   "execution_count": 1,
   "metadata": {},
   "outputs": [],
   "source": [
    "import sys\n",
    "import os\n",
    "\n",
    "# Get path to project root\n",
    "project_root = os.path.abspath(os.path.join(os.getcwd(), \"..\"))\n",
    "if project_root not in sys.path:\n",
    "    sys.path.append(project_root)\n"
   ]
  },
  {
   "cell_type": "code",
   "execution_count": 2,
   "metadata": {},
   "outputs": [
    {
     "name": "stdout",
     "output_type": "stream",
     "text": [
      "Shares: [(1, 126965074574277880819336299477306579545281141100036463775555525878825634415871), (2, 200316897698772171754235123026183289698402880583437353696153299030085058421362), (3, 11703852057391631570369724334505682208129656223732178247606988236728125012781), (4, 186180789598409983970720342338647101828168154700332411972475587149905645571571), (5, 98692858373553505252306738102234203804811689333826580328200102118466808716289)]\n",
      "Recovered secret: 123456789\n"
     ]
    }
   ],
   "source": [
    "from crypto.shamir import generate_shares, reconstruct_secret\n",
    "\n",
    "secret = 123456789\n",
    "shares = generate_shares(secret, 5, 3)\n",
    "print(\"Shares:\", shares)\n",
    "\n",
    "# Try reconstructing from any 3 shares\n",
    "recovered = reconstruct_secret(shares[:3])\n",
    "print(\"Recovered secret:\", recovered)\n",
    "assert recovered == secret\n"
   ]
  }
 ],
 "metadata": {
  "kernelspec": {
   "display_name": "Python 3",
   "language": "python",
   "name": "python3"
  },
  "language_info": {
   "codemirror_mode": {
    "name": "ipython",
    "version": 3
   },
   "file_extension": ".py",
   "mimetype": "text/x-python",
   "name": "python",
   "nbconvert_exporter": "python",
   "pygments_lexer": "ipython3",
   "version": "3.9.6"
  }
 },
 "nbformat": 4,
 "nbformat_minor": 2
}
