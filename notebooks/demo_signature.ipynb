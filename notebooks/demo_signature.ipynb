{
 "cells": [
  {
   "cell_type": "code",
   "execution_count": 4,
   "metadata": {},
   "outputs": [],
   "source": [
    "import sys\n",
    "import os\n",
    "\n",
    "# Ensure project root is in sys.path for imports\n",
    "project_root = os.path.abspath(os.path.join(os.getcwd(), \"..\"))\n",
    "if project_root not in sys.path:\n",
    "    sys.path.append(project_root)\n"
   ]
  },
  {
   "cell_type": "code",
   "execution_count": 5,
   "metadata": {},
   "outputs": [],
   "source": [
    "from crypto.shamir import generate_shares, reconstruct_secret\n",
    "from crypto.schnorr import generate_keypair, sign_message, verify_signature\n"
   ]
  },
  {
   "cell_type": "code",
   "execution_count": 6,
   "metadata": {},
   "outputs": [
    {
     "name": "stdout",
     "output_type": "stream",
     "text": [
      "Master Private Key: 94918042472323276555976521889489848202446909001773631448924720679377578922040\n",
      "Public Key: 106731055654740968458556655719401105348452329970044290626325787848938908472102\n",
      "\n",
      "Generated Shares:\n",
      "  Signer 1: (x=1, share=121940817164784644403366454393422157003464301490560366259661494458590558810910)\n",
      "  Signer 2: (x=2, share=29050266259910320852677750193753744484126819484362541542913464659847087862968)\n",
      "  Signer 3: (x=3, share=24598007073791547138237155602609058895670025209650648812866962500197436538695)\n",
      "  Signer 4: (x=4, share=108584039606428323260044670619988100238093918666424688069521987979641604838091)\n",
      "  Signer 5: (x=5, share=72656746541729407983773548933766420260162937628214167798692209881129322300675)\n"
     ]
    }
   ],
   "source": [
    "# Generate a master Schnorr private key and corresponding public key\n",
    "priv, pub = generate_keypair()\n",
    "print(\"Master Private Key:\", priv)\n",
    "print(\"Public Key:\", pub)\n",
    "\n",
    "# Share the private key among n signers with threshold t\n",
    "n = 5\n",
    "t = 3\n",
    "shares = generate_shares(priv, n, t)\n",
    "print(\"\\nGenerated Shares:\")\n",
    "for idx, (x, y) in enumerate(shares, 1):\n",
    "    print(f\"  Signer {idx}: (x={x}, share={y})\")\n"
   ]
  },
  {
   "cell_type": "code",
   "execution_count": 7,
   "metadata": {},
   "outputs": [
    {
     "name": "stdout",
     "output_type": "stream",
     "text": [
      "\n",
      "Participating Shares (for threshold):\n",
      "  x=1, share=121940817164784644403366454393422157003464301490560366259661494458590558810910\n",
      "  x=2, share=29050266259910320852677750193753744484126819484362541542913464659847087862968\n",
      "  x=3, share=24598007073791547138237155602609058895670025209650648812866962500197436538695\n",
      "\n",
      "Recovered Private Key from shares: 94918042472323276555976521889489848202446909001773631448924720679377578922040\n"
     ]
    }
   ],
   "source": [
    "# Choose t signers (simulate: first t signers participate)\n",
    "participating_shares = shares[:t]\n",
    "print(\"\\nParticipating Shares (for threshold):\")\n",
    "for x, y in participating_shares:\n",
    "    print(f\"  x={x}, share={y}\")\n",
    "\n",
    "# Reconstruct the private key from t shares (as done in threshold Schnorr)\n",
    "recovered_priv = reconstruct_secret(participating_shares)\n",
    "print(\"\\nRecovered Private Key from shares:\", recovered_priv)\n",
    "assert recovered_priv == priv\n"
   ]
  },
  {
   "cell_type": "code",
   "execution_count": 8,
   "metadata": {},
   "outputs": [
    {
     "name": "stdout",
     "output_type": "stream",
     "text": [
      "\n",
      "Signature: (r, s) = (35531033325588371674880218436380623569834557439451068871988148721699158019574, 37656692145183035872050977384608036835526693586964726543472958741185550482654)\n",
      "Signature valid? True\n"
     ]
    }
   ],
   "source": [
    "message = \"Approve transaction X for £100,000\"\n",
    "\n",
    "# Use the reconstructed private key to sign\n",
    "r, s = sign_message(recovered_priv, message)\n",
    "print(\"\\nSignature: (r, s) =\", (r, s))\n",
    "\n",
    "# Verify the signature with the public key\n",
    "is_valid = verify_signature(pub, message, r, s)\n",
    "print(\"Signature valid?\", is_valid)\n"
   ]
  },
  {
   "cell_type": "code",
   "execution_count": 9,
   "metadata": {},
   "outputs": [
    {
     "name": "stdout",
     "output_type": "stream",
     "text": [
      "\n",
      "All combinations of t shares successfully reconstruct the secret!\n"
     ]
    }
   ],
   "source": [
    "# Try reconstructing with a different combination of shares\n",
    "import itertools\n",
    "\n",
    "for share_combo in itertools.combinations(shares, t):\n",
    "    reconstructed = reconstruct_secret(list(share_combo))\n",
    "    assert reconstructed == priv, \"Failed reconstruction with valid threshold shares!\"\n",
    "\n",
    "print(\"\\nAll combinations of t shares successfully reconstruct the secret!\")\n"
   ]
  }
 ],
 "metadata": {
  "kernelspec": {
   "display_name": "venv",
   "language": "python",
   "name": "python3"
  },
  "language_info": {
   "codemirror_mode": {
    "name": "ipython",
    "version": 3
   },
   "file_extension": ".py",
   "mimetype": "text/x-python",
   "name": "python",
   "nbconvert_exporter": "python",
   "pygments_lexer": "ipython3",
   "version": "3.9.6"
  }
 },
 "nbformat": 4,
 "nbformat_minor": 2
}
